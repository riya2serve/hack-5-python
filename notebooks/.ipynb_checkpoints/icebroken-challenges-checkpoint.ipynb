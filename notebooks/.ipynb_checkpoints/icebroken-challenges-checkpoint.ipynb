{
 "cells": [
  {
   "cell_type": "markdown",
   "id": "e572f07e-31a5-4a3b-a150-d398399abc45",
   "metadata": {},
   "source": [
    "# Challenge: Find all elements smaller than a given number¶\n",
    "\n",
    "This function is supposed to return a list of all values less than a given integer value. The function optionally takes a max_value, and it requires to pass in a list of numbers. Your goal is to get this function to work correctly. This code block has two errors, which you can solve consecutively."
   ]
  },
  {
   "cell_type": "code",
   "execution_count": 15,
   "id": "27e566cb-1ad3-45c4-808d-0dd964c420e9",
   "metadata": {},
   "outputs": [
    {
     "name": "stdout",
     "output_type": "stream",
     "text": [
      "5 []\n",
      "2 [2]\n",
      "12 [2]\n",
      "7 [2]\n",
      "3 [2, 3]\n",
      "8 [2, 3]\n"
     ]
    },
    {
     "data": {
      "text/plain": [
       "[2, 3]"
      ]
     },
     "execution_count": 15,
     "metadata": {},
     "output_type": "execute_result"
    }
   ],
   "source": [
    "def get_smaller(my_list, max_value = 5):\n",
    "    \"\"\"Return a list of all values smaller than max_value\"\"\"\n",
    "    low = [] #creates an empty list\n",
    "    for element in my_list:\n",
    "        if element < max_value:\n",
    "            low.append(element) #will add element if it is smaller than max value\n",
    "        print(element, low)\n",
    "    return low #returns appended list \n",
    "\n",
    "my_list = [5, 2, 12, 7, 3, 8]\n",
    "\n",
    "get_smaller(my_list = my_list)"
   ]
  },
  {
   "cell_type": "markdown",
   "id": "1c09a781-2f8f-4da6-9ea1-c37dcaf7d8d9",
   "metadata": {},
   "source": [
    "# Challenge: Implement FizzBuzz¶\n",
    "\n",
    "FizzBuzz is a classical programming challenge in which you are given the task to take consecutive integer values and print \"Fizz\" for each integer divisible by 3, \"Buzz\" for integers divisible by 5, and \"FizzBuzz\" for integers divisible by both 3 and 5, and remain silent for all other integers. In this case we have given you most of the code but there is an error, please fix it and verify that it works. This code block has two errors, which you can solve consecutively."
   ]
  },
  {
   "cell_type": "code",
   "execution_count": 25,
   "id": "97c6ad72-e5cb-4845-ad8f-8c0f7ee92f8d",
   "metadata": {},
   "outputs": [
    {
     "name": "stdout",
     "output_type": "stream",
     "text": [
      "3 fizz\n",
      "5 buzz\n",
      "6 fizz\n",
      "9 fizz\n",
      "10 buzz\n",
      "12 fizz\n"
     ]
    }
   ],
   "source": [
    "def fizzbuzz(max_num):\n",
    "    \"This method implements FizzBuzz\"\n",
    "    three_mul = 'fizz' #for each integer divisible by 3\n",
    "    five_mul = 'buzz' #for each integer divisible by 5\n",
    "    num1 = 3\n",
    "    num2 = 5 \n",
    "\n",
    "    # Google for 'range in python' to see what it does\n",
    "    for i in range(1,max_num):\n",
    "        # % or modulo division gives you the remainder \n",
    "        if i%num1==0 and i%num2==0:\n",
    "            print(i,three_mul+five_mul)\n",
    "        elif i%num1==0:\n",
    "            print(i,three_mul)\n",
    "        elif i%num2==0:\n",
    "            print(i,five_mul)\n",
    "\n",
    "fizzbuzz(max_num = 13) #need to define default value of max_num OUTSIDE of function"
   ]
  },
  {
   "cell_type": "markdown",
   "id": "da0656ef-c9e3-4142-92b4-515c57b6cbdb",
   "metadata": {},
   "source": [
    "# Challenge: Sum of positive integers¶\n",
    "\n",
    "This function takes one argument, numbers, which should be a list of numbers. The function should sum all positive numbers in this list. Why doesn't it work?"
   ]
  },
  {
   "cell_type": "code",
   "execution_count": 23,
   "id": "5be8883f-c1bc-4765-b08c-66857cd5d617",
   "metadata": {},
   "outputs": [
    {
     "data": {
      "text/plain": [
       "28"
      ]
     },
     "execution_count": 23,
     "metadata": {},
     "output_type": "execute_result"
    }
   ],
   "source": [
    "def sum_positive(numbers):\n",
    "    total = 0 \n",
    "    for num in numbers:\n",
    "        if num > 0:\n",
    "            total += num #just needed an equal sign \n",
    "    return total\n",
    "\n",
    "sum_positive([1,2,3,4,5,6,7])"
   ]
  }
 ],
 "metadata": {
  "kernelspec": {
   "display_name": "Python 3 (ipykernel)",
   "language": "python",
   "name": "python3"
  },
  "language_info": {
   "codemirror_mode": {
    "name": "ipython",
    "version": 3
   },
   "file_extension": ".py",
   "mimetype": "text/x-python",
   "name": "python",
   "nbconvert_exporter": "python",
   "pygments_lexer": "ipython3",
   "version": "3.10.12"
  }
 },
 "nbformat": 4,
 "nbformat_minor": 5
}
