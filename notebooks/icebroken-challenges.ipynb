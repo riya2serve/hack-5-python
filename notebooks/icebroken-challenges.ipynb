{
 "cells": [
  {
   "cell_type": "markdown",
   "id": "e572f07e-31a5-4a3b-a150-d398399abc45",
   "metadata": {},
   "source": [
    "# Challenge: Find all elements smaller than a given number¶\n",
    "\n",
    "This function is supposed to return a list of all values less than a given integer value. The function optionally takes a max_value, and it requires to pass in a list of numbers. Your goal is to get this function to work correctly. This code block has two errors, which you can solve consecutively."
   ]
  },
  {
   "cell_type": "code",
   "execution_count": 15,
   "id": "27e566cb-1ad3-45c4-808d-0dd964c420e9",
   "metadata": {},
   "outputs": [
    {
     "name": "stdout",
     "output_type": "stream",
     "text": [
      "5 []\n",
      "2 [2]\n",
      "12 [2]\n",
      "7 [2]\n",
      "3 [2, 3]\n",
      "8 [2, 3]\n"
     ]
    },
    {
     "data": {
      "text/plain": [
       "[2, 3]"
      ]
     },
     "execution_count": 15,
     "metadata": {},
     "output_type": "execute_result"
    }
   ],
   "source": [
    "def get_smaller(my_list, max_value = 5):\n",
    "    \"\"\"Return a list of all values smaller than max_value\"\"\"\n",
    "    low = [] #creates an empty list\n",
    "    for element in my_list:\n",
    "        if element < max_value:\n",
    "            low.append(element) #will add element if it is smaller than max value\n",
    "        print(element, low)\n",
    "    return low #returns appended list \n",
    "\n",
    "my_list = [5, 2, 12, 7, 3, 8]\n",
    "\n",
    "get_smaller(my_list = my_list)"
   ]
  },
  {
   "cell_type": "markdown",
   "id": "1c09a781-2f8f-4da6-9ea1-c37dcaf7d8d9",
   "metadata": {},
   "source": [
    "# Challenge: Implement FizzBuzz¶\n",
    "\n",
    "FizzBuzz is a classical programming challenge in which you are given the task to take consecutive integer values and print \"Fizz\" for each integer divisible by 3, \"Buzz\" for integers divisible by 5, and \"FizzBuzz\" for integers divisible by both 3 and 5, and remain silent for all other integers. In this case we have given you most of the code but there is an error, please fix it and verify that it works. This code block has two errors, which you can solve consecutively."
   ]
  },
  {
   "cell_type": "code",
   "execution_count": 25,
   "id": "97c6ad72-e5cb-4845-ad8f-8c0f7ee92f8d",
   "metadata": {},
   "outputs": [
    {
     "name": "stdout",
     "output_type": "stream",
     "text": [
      "3 fizz\n",
      "5 buzz\n",
      "6 fizz\n",
      "9 fizz\n",
      "10 buzz\n",
      "12 fizz\n"
     ]
    }
   ],
   "source": [
    "def fizzbuzz(max_num):\n",
    "    \"This method implements FizzBuzz\"\n",
    "    three_mul = 'fizz' #for each integer divisible by 3\n",
    "    five_mul = 'buzz' #for each integer divisible by 5\n",
    "    num1 = 3\n",
    "    num2 = 5 \n",
    "\n",
    "    # Google for 'range in python' to see what it does\n",
    "    for i in range(1,max_num):\n",
    "        # % or modulo division gives you the remainder \n",
    "        if i%num1==0 and i%num2==0:\n",
    "            print(i,three_mul+five_mul)\n",
    "        elif i%num1==0:\n",
    "            print(i,three_mul)\n",
    "        elif i%num2==0:\n",
    "            print(i,five_mul)\n",
    "\n",
    "fizzbuzz(max_num = 13) #need to define default value of max_num OUTSIDE of function"
   ]
  },
  {
   "cell_type": "markdown",
   "id": "da0656ef-c9e3-4142-92b4-515c57b6cbdb",
   "metadata": {},
   "source": [
    "# Challenge: Sum of positive integers¶\n",
    "\n",
    "This function takes one argument, numbers, which should be a list of numbers. The function should sum all positive numbers in this list. Why doesn't it work?"
   ]
  },
  {
   "cell_type": "code",
   "execution_count": 23,
   "id": "5be8883f-c1bc-4765-b08c-66857cd5d617",
   "metadata": {},
   "outputs": [
    {
     "data": {
      "text/plain": [
       "28"
      ]
     },
     "execution_count": 23,
     "metadata": {},
     "output_type": "execute_result"
    }
   ],
   "source": [
    "def sum_positive(numbers):\n",
    "    total = 0 \n",
    "    for num in numbers:\n",
    "        if num > 0:\n",
    "            total += num #just needed an equal sign \n",
    "    return total\n",
    "\n",
    "sum_positive([1,2,3,4,5,6,7])"
   ]
  },
  {
   "cell_type": "markdown",
   "id": "3e40e102-244e-4c3a-8754-fa3664812576",
   "metadata": {},
   "source": [
    "# Challenge: Add two positive numbers¶\n",
    "\n",
    "This function is supposed to accept two required arguments, add them together and return the sum. There are two at least two conditions that this function should handle which it currently doesn't: 1) If one of the passed in values is not strictly positive; and 2) If one of the values is not a number. Your goal is to get this function to work correctly. There are several ways to do this so we will discuss alternative strategies."
   ]
  },
  {
   "cell_type": "code",
   "execution_count": 20,
   "id": "0c16cf9a-b655-4fe7-9f12-0a15a706ebb9",
   "metadata": {},
   "outputs": [
    {
     "ename": "Exception",
     "evalue": "bad input values",
     "output_type": "error",
     "traceback": [
      "\u001b[0;31m---------------------------------------------------------------------------\u001b[0m",
      "\u001b[0;31mException\u001b[0m                                 Traceback (most recent call last)",
      "Cell \u001b[0;32mIn[20], line 8\u001b[0m\n\u001b[1;32m      4\u001b[0m     \u001b[38;5;28;01melse\u001b[39;00m:\n\u001b[1;32m      5\u001b[0m         \u001b[38;5;66;03m#print(\"bad input values\")\u001b[39;00m\n\u001b[1;32m      6\u001b[0m         \u001b[38;5;28;01mraise\u001b[39;00m \u001b[38;5;167;01mException\u001b[39;00m(\u001b[38;5;124m\"\u001b[39m\u001b[38;5;124mbad input values\u001b[39m\u001b[38;5;124m\"\u001b[39m)\n\u001b[0;32m----> 8\u001b[0m result \u001b[38;5;241m=\u001b[39m \u001b[43madd\u001b[49m\u001b[43m(\u001b[49m\u001b[38;5;241;43m-\u001b[39;49m\u001b[38;5;241;43m1\u001b[39;49m\u001b[43m,\u001b[49m\u001b[43m \u001b[49m\u001b[38;5;241;43m5\u001b[39;49m\u001b[43m)\u001b[49m \u001b[38;5;66;03m#this is defining a and b (?)\u001b[39;00m\n\u001b[1;32m      9\u001b[0m \u001b[38;5;28mprint\u001b[39m(result, \u001b[38;5;28mtype\u001b[39m(result))\n\u001b[1;32m     10\u001b[0m \u001b[38;5;28mprint\u001b[39m(result \u001b[38;5;241m+\u001b[39m \u001b[38;5;241m2\u001b[39m)\n",
      "Cell \u001b[0;32mIn[20], line 6\u001b[0m, in \u001b[0;36madd\u001b[0;34m(a, b)\u001b[0m\n\u001b[1;32m      3\u001b[0m     \u001b[38;5;28;01mreturn\u001b[39;00m a \u001b[38;5;241m+\u001b[39m b\n\u001b[1;32m      4\u001b[0m \u001b[38;5;28;01melse\u001b[39;00m:\n\u001b[1;32m      5\u001b[0m     \u001b[38;5;66;03m#print(\"bad input values\")\u001b[39;00m\n\u001b[0;32m----> 6\u001b[0m     \u001b[38;5;28;01mraise\u001b[39;00m \u001b[38;5;167;01mException\u001b[39;00m(\u001b[38;5;124m\"\u001b[39m\u001b[38;5;124mbad input values\u001b[39m\u001b[38;5;124m\"\u001b[39m)\n",
      "\u001b[0;31mException\u001b[0m: bad input values"
     ]
    }
   ],
   "source": [
    "def add(a, b):\n",
    "    if a > 0 and b > 0:\n",
    "        return a + b\n",
    "    else:\n",
    "        #print(\"bad input values\")\n",
    "        raise Exception(\"bad input values\")\n",
    "        \n",
    "result = add(-1, 5) #this is defining a and b (?)\n",
    "print(result, type(result))\n",
    "print(result + 2)"
   ]
  },
  {
   "cell_type": "markdown",
   "id": "a817ace2-01e0-403d-9aea-30361bf70c4b",
   "metadata": {},
   "source": [
    "# Challenge: Implement a 'Person' class¶\n",
    "\n",
    "Here is a simple class that represents information about a \"Person\". This code block implements the Person class, instantiates a new person and tries to print it to the screen. Your goal is to fix this class to generate the expected output."
   ]
  },
  {
   "cell_type": "code",
   "execution_count": 47,
   "id": "adfd4e66-9290-43c6-aafb-09adcacdb64a",
   "metadata": {},
   "outputs": [
    {
     "name": "stdout",
     "output_type": "stream",
     "text": [
      "Phylo is 10 years old\n"
     ]
    }
   ],
   "source": [
    "class Person:\n",
    "    def __init__(self, name, age = 10):\n",
    "        '''Initialize the Person object'''\n",
    "        self.name = name\n",
    "        self.age = age\n",
    "        \n",
    "    def __repr__(self):\n",
    "        '''Describe the string representation of a Person'''\n",
    "    \n",
    "        return f\"{self.name} is {self.age} years old\"\n",
    "\n",
    "p = Person(\"Phylo\") #can either set age here (name, age) OR set it above in arguments \n",
    "print(p)"
   ]
  },
  {
   "cell_type": "markdown",
   "id": "c2dd21ab-c403-4fca-86c6-66d0d315ad1e",
   "metadata": {},
   "source": [
    "# Challenge: Implement a simple Dog class¶\n",
    "\n",
    "This class describes a Dog with the ability to bark(). The expected output is Woof!. Your goal is to fix this class."
   ]
  },
  {
   "cell_type": "code",
   "execution_count": 56,
   "id": "1e972be9-a6a8-4079-9710-6cfa83ee78fc",
   "metadata": {},
   "outputs": [
    {
     "name": "stdout",
     "output_type": "stream",
     "text": [
      "Phylo says Woof!\n"
     ]
    }
   ],
   "source": [
    "class Dog:\n",
    "    def __init__(self, name):\n",
    "        self.name = name\n",
    "        \n",
    "    def bark(self):\n",
    "        print(f\"{self.name} says Woof!\")\n",
    "\n",
    "d = Dog(\"Phylo\")\n",
    "d.bark()"
   ]
  },
  {
   "cell_type": "code",
   "execution_count": null,
   "id": "75855be9-4da8-49b5-83fd-5dd5b57c7d07",
   "metadata": {},
   "outputs": [],
   "source": []
  }
 ],
 "metadata": {
  "kernelspec": {
   "display_name": "Python 3 (ipykernel)",
   "language": "python",
   "name": "python3"
  },
  "language_info": {
   "codemirror_mode": {
    "name": "ipython",
    "version": 3
   },
   "file_extension": ".py",
   "mimetype": "text/x-python",
   "name": "python",
   "nbconvert_exporter": "python",
   "pygments_lexer": "ipython3",
   "version": "3.10.12"
  }
 },
 "nbformat": 4,
 "nbformat_minor": 5
}
