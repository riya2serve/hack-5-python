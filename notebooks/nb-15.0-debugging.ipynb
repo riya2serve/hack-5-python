{
 "cells": [
  {
   "cell_type": "markdown",
   "id": "05322757-c6ff-447c-91bc-f938c14eab23",
   "metadata": {},
   "source": [
    "This notebook will give some practice in debugging python code, and reading, understanding, and responding to python error messages in small functions.\n",
    "\n",
    "# Methodology\n",
    "\n",
    "This tutorial involves identifying and fixing small errors or bugs in python code. For this set of challenges you will open a new jupyter notebook, copy the code from each of the challenges, and attempt to fix each of them according to the directions. You may use whatever to do this that are at your disposal.\n",
    "\n",
    "Hint: Remember that using print() statements inside functions is a good way to easily trace execution."
   ]
  },
  {
   "cell_type": "markdown",
   "id": "42215c88-34cb-4ffb-985f-e1aad7f3edfd",
   "metadata": {},
   "source": [
    "# Challenge: Load a dataset from a csv\n",
    "\n",
    "The following code will download a small dataset that we will use in the machine learning exercise today. There is a bug in this code that you'll need to find and fix in order to proceed with the exercise later."
   ]
  },
  {
   "cell_type": "code",
   "execution_count": 10,
   "id": "cb579605-9b61-430f-a803-a5e9c8c13724",
   "metadata": {},
   "outputs": [],
   "source": [
    "import requests #requesting access to file \n",
    "url = \"https://raw.githubusercontent.com/eaton-lab/hack-the-planet/refs/heads/master/docs/data/penguin_data.csv\""
   ]
  },
  {
   "cell_type": "code",
   "execution_count": 11,
   "id": "5ca6edde-608f-4e3e-80f1-1d0cabfddbbf",
   "metadata": {},
   "outputs": [
    {
     "name": "stdout",
     "output_type": "stream",
     "text": [
      "<bound method NDFrame.head of      culmen.length  culmen.depth  flipper.length  body.mass species\n",
      "0             39.1          18.7             181       3750  Adelie\n",
      "1             39.5          17.4             186       3800  Adelie\n",
      "2             40.3          18.0             195       3250  Adelie\n",
      "3             36.7          19.3             193       3450  Adelie\n",
      "4             39.3          20.6             190       3650  Adelie\n",
      "..             ...           ...             ...        ...     ...\n",
      "145           43.6          13.9             217       4900  Gentoo\n",
      "146           45.5          13.9             210       4200  Gentoo\n",
      "147           50.5          15.9             225       5400  Gentoo\n",
      "148           44.9          13.3             213       5100  Gentoo\n",
      "149           45.2          15.8             215       5300  Gentoo\n",
      "\n",
      "[150 rows x 5 columns]>\n"
     ]
    }
   ],
   "source": [
    "with open(\"penguin_data.csv\", 'w') as outfile:\n",
    "    outfile.write(requests.get(url).text)\n",
    "\n",
    "data = \"penguin_data.csv\" #issue is that this needs quotes\n",
    "df = pd.read_csv(data)\n",
    "\n",
    "print(df.head)"
   ]
  },
  {
   "cell_type": "markdown",
   "id": "9624c46b-df3f-44ef-ba6f-20fbcd7e7e9e",
   "metadata": {},
   "source": [
    "# Challenge: Testing multiple conditions in an if statement\n",
    "\n",
    "Here is a quick function to test whether either of the two first input values are less than the third (optional) value that defaults to 4.\n",
    "\n",
    "\n"
   ]
  },
  {
   "cell_type": "code",
   "execution_count": 16,
   "id": "fb33815e-d428-444f-b247-4781bfaa6059",
   "metadata": {},
   "outputs": [
    {
     "name": "stdout",
     "output_type": "stream",
     "text": [
      "Both aren't less\n"
     ]
    }
   ],
   "source": [
    "def either_less(a, b, c=4):\n",
    "    if a < c and b < c: #needed to switch 'OR' to 'AND'\n",
    "        print(\"Both are less\")\n",
    "    else:\n",
    "        print(\"Both aren't less\")\n",
    "\n",
    "either_less(3, 5) #printing 'both are less' BUT they aren't "
   ]
  },
  {
   "cell_type": "markdown",
   "id": "555804be-3ab0-4bf6-a008-8694e4b4b412",
   "metadata": {},
   "source": [
    "# Challenge: Fix all the bugs in one shot\n",
    "\n",
    "Here is a different kind of challenge. This code should just print a message to the console but there are many small problems with it. See how many of the bugs you can fix before running this cell to test it. Keep track of how many bugs you find before you get this code to run. How many was it total?"
   ]
  },
  {
   "cell_type": "code",
   "execution_count": null,
   "id": "67881cd6-148f-4226-9268-02ad341e1688",
   "metadata": {},
   "outputs": [],
   "source": []
  }
 ],
 "metadata": {
  "kernelspec": {
   "display_name": "Python 3 (ipykernel)",
   "language": "python",
   "name": "python3"
  },
  "language_info": {
   "codemirror_mode": {
    "name": "ipython",
    "version": 3
   },
   "file_extension": ".py",
   "mimetype": "text/x-python",
   "name": "python",
   "nbconvert_exporter": "python",
   "pygments_lexer": "ipython3",
   "version": "3.10.12"
  }
 },
 "nbformat": 4,
 "nbformat_minor": 5
}
